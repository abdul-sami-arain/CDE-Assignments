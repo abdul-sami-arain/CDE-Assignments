{
 "cells": [
  {
   "cell_type": "markdown",
   "metadata": {},
   "source": [
    "1) A company decided to give bonus of 5% to employee if his/her year of service is more than 5 years.\n",
    "Ask user for their salary and year of service and print the net bonus amount."
   ]
  },
  {
   "cell_type": "code",
   "execution_count": 3,
   "metadata": {},
   "outputs": [
    {
     "name": "stdin",
     "output_type": "stream",
     "text": [
      "Please Enter Your Salary 120000\n",
      "Please Enter Your Service Period 6\n"
     ]
    },
    {
     "name": "stdout",
     "output_type": "stream",
     "text": [
      "Congrats! you're eligible for Bonus, Net amount will be 6000.0\n"
     ]
    }
   ],
   "source": [
    "salary = int(input(\"Please Enter Your Salary\"))\n",
    "service_period = int(input(\"Please Enter Your Service Period\"))\n",
    "bonus_percent = 5;\n",
    "\n",
    "if service_period > 5 :\n",
    "    net_bonus = (5/100)*salary\n",
    "    print(f\"Congrats! you're eligible for Bonus, Net amount will be {net_bonus}\")\n",
    "else:\n",
    "    print(\"Sorry, You're not Eligible for Bonus\")"
   ]
  },
  {
   "cell_type": "markdown",
   "metadata": {},
   "source": [
    "\n",
    "2) Write a program to check whether a person is eligible for voting or not. (accept age from user) if age is greater than 17 eligible otherwise not eligible"
   ]
  },
  {
   "cell_type": "code",
   "execution_count": 11,
   "metadata": {},
   "outputs": [
    {
     "name": "stdin",
     "output_type": "stream",
     "text": [
      "Enter your age:  10\n"
     ]
    },
    {
     "name": "stdout",
     "output_type": "stream",
     "text": [
      "You are not eligible for voting.\n"
     ]
    }
   ],
   "source": [
    "age = int(input(\"Enter your age: \"))\n",
    "\n",
    "if age > 17:\n",
    "    print(\"You are eligible for voting.\")\n",
    "else:\n",
    "    print(\"You are not eligible for voting.\")\n"
   ]
  },
  {
   "cell_type": "markdown",
   "metadata": {},
   "source": [
    "\n",
    "3) Write a program to check whether a number entered by user is even or odd."
   ]
  },
  {
   "cell_type": "code",
   "execution_count": 13,
   "metadata": {},
   "outputs": [
    {
     "name": "stdin",
     "output_type": "stream",
     "text": [
      "Enter a number:  1\n"
     ]
    },
    {
     "name": "stdout",
     "output_type": "stream",
     "text": [
      "The number is odd.\n"
     ]
    }
   ],
   "source": [
    "num = int(input(\"Enter a number: \"))\n",
    "\n",
    "if num % 2 == 0:\n",
    "    print(\"The number is even.\")\n",
    "else:\n",
    "    print(\"The number is odd.\")\n"
   ]
  },
  {
   "cell_type": "markdown",
   "metadata": {},
   "source": [
    "4) Write a program to check whether a number is divisible by 7 or not.\n",
    "Show Answer"
   ]
  },
  {
   "cell_type": "code",
   "execution_count": 15,
   "metadata": {},
   "outputs": [
    {
     "name": "stdin",
     "output_type": "stream",
     "text": [
      "Enter a number:  49\n"
     ]
    },
    {
     "name": "stdout",
     "output_type": "stream",
     "text": [
      "The number is divisible by 7.\n"
     ]
    }
   ],
   "source": [
    "num = int(input(\"Enter a number: \"))\n",
    "\n",
    "if num % 7 == 0:\n",
    "    print(\"The number is divisible by 7.\")\n",
    "else:\n",
    "    print(\"The number is not divisible by 7.\")\n"
   ]
  },
  {
   "cell_type": "markdown",
   "metadata": {},
   "source": [
    "5) Write a program to display \n",
    "\"Hello\" if a number entered by user is a multiple of five , otherwise print \"Bye\"."
   ]
  },
  {
   "cell_type": "code",
   "execution_count": 19,
   "metadata": {},
   "outputs": [
    {
     "name": "stdin",
     "output_type": "stream",
     "text": [
      "Enter a number:  100\n"
     ]
    },
    {
     "name": "stdout",
     "output_type": "stream",
     "text": [
      "Hello\n"
     ]
    }
   ],
   "source": [
    "num = int(input(\"Enter a number: \"))\n",
    "\n",
    "if num % 5 == 0:\n",
    "    print(\"Hello\")\n",
    "else:\n",
    "    print(\"Bye\")\n"
   ]
  },
  {
   "cell_type": "markdown",
   "metadata": {},
   "source": [
    "7) Write a program to display the last digit of a number.\n"
   ]
  },
  {
   "cell_type": "code",
   "execution_count": 21,
   "metadata": {},
   "outputs": [
    {
     "name": "stdin",
     "output_type": "stream",
     "text": [
      "Enter a number:  12983\n"
     ]
    },
    {
     "name": "stdout",
     "output_type": "stream",
     "text": [
      "The last digit of the number is: 3\n"
     ]
    }
   ],
   "source": [
    "num = int(input(\"Enter a number: \"))\n",
    "\n",
    "last_digit = abs(num) % 10\n",
    "\n",
    "print(\"The last digit of the number is:\", last_digit)"
   ]
  },
  {
   "cell_type": "markdown",
   "metadata": {},
   "source": [
    "9) Take values of length and breadth of a rectangle from user and print if it is square or rectangle."
   ]
  },
  {
   "cell_type": "code",
   "execution_count": 23,
   "metadata": {},
   "outputs": [
    {
     "name": "stdin",
     "output_type": "stream",
     "text": [
      "Enter the length:  12\n",
      "Enter the breadth:  12.9\n"
     ]
    },
    {
     "name": "stdout",
     "output_type": "stream",
     "text": [
      "It is a rectangle.\n"
     ]
    }
   ],
   "source": [
    "length = float(input(\"Enter the length: \"))\n",
    "breadth = float(input(\"Enter the breadth: \"))\n",
    "\n",
    "if length == breadth:\n",
    "    print(\"It is a square.\")\n",
    "else:\n",
    "    print(\"It is a rectangle.\")\n"
   ]
  },
  {
   "cell_type": "markdown",
   "metadata": {},
   "source": [
    "10) Take two int values from user and print greatest among them."
   ]
  },
  {
   "cell_type": "code",
   "execution_count": 25,
   "metadata": {},
   "outputs": [
    {
     "name": "stdin",
     "output_type": "stream",
     "text": [
      "Enter first number:  20\n",
      "Enter second number:  12\n"
     ]
    },
    {
     "name": "stdout",
     "output_type": "stream",
     "text": [
      "The greatest number is: 20\n"
     ]
    }
   ],
   "source": [
    "num1 = int(input(\"Enter first number: \"))\n",
    "num2 = int(input(\"Enter second number: \"))\n",
    "\n",
    "if num1 > num2:\n",
    "    print(\"The greatest number is:\", num1)\n",
    "elif num2 > num1:\n",
    "    print(\"The greatest number is:\", num2)\n",
    "else:\n",
    "    print(\"Both numbers are equal.\")\n"
   ]
  },
  {
   "cell_type": "markdown",
   "metadata": {},
   "source": [
    "11) A shop will give discount of 10% if the cost of purchased quantity is more than 1000.\n",
    "Ask user for quantity\n",
    "Suppose, one unit will cost 100.\n",
    "Judge and print total cost for user."
   ]
  },
  {
   "cell_type": "code",
   "execution_count": 27,
   "metadata": {},
   "outputs": [
    {
     "name": "stdin",
     "output_type": "stream",
     "text": [
      "Enter the quantity you want to purchase:  12\n"
     ]
    },
    {
     "name": "stdout",
     "output_type": "stream",
     "text": [
      "Total cost after discount (if any): 1080.0\n"
     ]
    }
   ],
   "source": [
    "unit_price = 100\n",
    "\n",
    "quantity = int(input(\"Enter the quantity you want to purchase: \"))\n",
    "\n",
    "total_cost = quantity * unit_price\n",
    "\n",
    "if total_cost > 1000:\n",
    "    discount = total_cost * 0.10\n",
    "    total_cost -= discount\n",
    "\n",
    "print(\"Total cost after discount (if any):\", total_cost)\n"
   ]
  },
  {
   "cell_type": "markdown",
   "metadata": {},
   "source": [
    "12) A school has following rules for grading system:\n",
    "\n",
    "a. Below 25 - F\n",
    "\n",
    "b. 25 to 45 - E\n",
    "\n",
    "c. 45 to 50 - D\n",
    "\n",
    "d. 50 to 60 - C\n",
    "\n",
    "e. 60 to 80 - B\n",
    "\n",
    "f. Above 80 - A\n",
    "\n",
    "Ask user to enter marks and print the corresponding grade."
   ]
  },
  {
   "cell_type": "code",
   "execution_count": 31,
   "metadata": {},
   "outputs": [
    {
     "name": "stdin",
     "output_type": "stream",
     "text": [
      "Please Enter Your Marks 12\n"
     ]
    },
    {
     "name": "stdout",
     "output_type": "stream",
     "text": [
      "Failed\n"
     ]
    }
   ],
   "source": [
    "student_marks = int(input(\"Please Enter Your Marks\"))\n",
    "\n",
    "\n",
    "if student_marks > 100 or student_marks < 0:\n",
    "    print(\"please give valid input\")\n",
    "elif student_marks >= 80:\n",
    "    print(\"grade is A+\")\n",
    "elif student_marks >=70:\n",
    "    print(\"grade is A\")\n",
    "elif student_marks >=60:\n",
    "    print(\"grade is B\")\n",
    "elif student_marks >=50:\n",
    "    print(\"grade is C\")\n",
    "elif student_marks >=40:\n",
    "    print(\"grade is D\")\n",
    "else:\n",
    "    print(\"Failed\")\n"
   ]
  },
  {
   "cell_type": "markdown",
   "metadata": {},
   "source": [
    "14)A student will not be allowed to sit in exam if his/her attendence is less than 75%.\n",
    "\n",
    "Take following input from user\n",
    "\n",
    "Number of classes held\n",
    "\n",
    "Number of classes attended.\n",
    "\n",
    "And print\n",
    "\n",
    "percentage of class attended\n",
    "\n",
    "Is student is allowed to sit in exam or not.\n"
   ]
  },
  {
   "cell_type": "code",
   "execution_count": 33,
   "metadata": {},
   "outputs": [
    {
     "name": "stdin",
     "output_type": "stream",
     "text": [
      "Please Enter Total Classes Held 12\n",
      "Please Enter Total Classes you Attend 10\n"
     ]
    },
    {
     "name": "stdout",
     "output_type": "stream",
     "text": [
      "Your attend 83.33333333333334% class,Congrats! you are Allowed to Sit in Exam!\n"
     ]
    }
   ],
   "source": [
    "#Type your code here\n",
    "total_classes = int(input(\"Please Enter Total Classes Held\"))\n",
    "attend_classes = int(input(\"Please Enter Total Classes you Attend\"))\n",
    "\n",
    "percent_class_attend = (attend_classes/total_classes)*100\n",
    "if (attend_classes > total_classes) and  (percent_class_attend > 100) :\n",
    "    print(\"Please Enter Valid Inputs\")\n",
    "elif percent_class_attend < 75:\n",
    "    print(f\"Your attend {percent_class_attend}% class, you are not Allowed to Sit in Exam!\");\n",
    "elif (percent_class_attend >= 75 ):\n",
    "    print(f\"Your attend {percent_class_attend}% class,Congrats! you are Allowed to Sit in Exam!\");\n",
    "else:\n",
    "    print(\"Check your Response\")"
   ]
  },
  {
   "cell_type": "markdown",
   "metadata": {},
   "source": [
    "15) Modify the above question to allow student to sit if he/she has medical cause. Ask user if he/she has medical cause or not ( 'Y' or 'N' ) and print accordingly."
   ]
  },
  {
   "cell_type": "code",
   "execution_count": 36,
   "metadata": {},
   "outputs": [
    {
     "name": "stdin",
     "output_type": "stream",
     "text": [
      "Please Enter Total Classes Held 120\n",
      "Please Enter Total Classes you Attend 110\n"
     ]
    },
    {
     "name": "stdout",
     "output_type": "stream",
     "text": [
      "Your attend 91.66666666666666% class,Congrats! you are Allowed to Sit in Exam!\n"
     ]
    }
   ],
   "source": [
    "#Type your code here\n",
    "total_classes = int(input(\"Please Enter Total Classes Held\"))\n",
    "attend_classes = int(input(\"Please Enter Total Classes you Attend\"))\n",
    "\n",
    "percent_class_attend = (attend_classes/total_classes)*100\n",
    "if (attend_classes > total_classes) and  (percent_class_attend > 100) :\n",
    "    print(\"Please Enter Valid Inputs\")\n",
    "elif percent_class_attend < 75:\n",
    "    medical_cause = input(\"You had any Medical Cause Due to which you was\\'nt able to attend class?\");\n",
    "    if medical_cause == \"Y\":\n",
    "        print(f\"Your attend {percent_class_attend}% class, you are Allowed to Sit in Exam! because you had a medical issue\");\n",
    "    elif medical_cause == \"N\":\n",
    "        print(f\"Your attend {percent_class_attend}% class, you are not Allowed to Sit in Exam!\");\n",
    "    else:\n",
    "        print(\"please check your format\")\n",
    "elif (percent_class_attend >= 75 ):\n",
    "    print(f\"Your attend {percent_class_attend}% class,Congrats! you are Allowed to Sit in Exam!\");\n",
    "else:\n",
    "    print(\"Check your Response\")"
   ]
  },
  {
   "cell_type": "markdown",
   "metadata": {},
   "source": [
    "16) Write a program to check if a year is leap year or not.\n",
    "\n",
    "If a year is divisible by 4 then it is leap year but if the year is century year like 2000, 1900, 2100 then it must be divisible by 400."
   ]
  },
  {
   "cell_type": "code",
   "execution_count": 38,
   "metadata": {},
   "outputs": [
    {
     "name": "stdin",
     "output_type": "stream",
     "text": [
      "Please Enter Year 2000\n"
     ]
    },
    {
     "name": "stdout",
     "output_type": "stream",
     "text": [
      "2000 is a Leap Year.\n"
     ]
    }
   ],
   "source": [
    "year = int(input(\"Please Enter Year\"));\n",
    "if year%400 == 0:\n",
    "    print(f\"{year} is a Leap Year.\")\n",
    "else:\n",
    "    print(f\"{year} is not a Leap Year.\")"
   ]
  },
  {
   "cell_type": "markdown",
   "metadata": {},
   "source": [
    "17) Ask user to enter age, gender ( M or F ), marital status ( Y or N ) and then using following rules print their place of service.\n",
    "\n",
    "if employee is female, then she will work only in urban areas.\n",
    "\n",
    "if employee is a male and age is in between 20 to 40 then he may work in anywhere\n",
    "\n",
    "if employee is male and age is in between 40 t0 60 then he will work in urban areas only.\n",
    "\n",
    "And any other input of age should print \"ERROR\""
   ]
  },
  {
   "cell_type": "code",
   "execution_count": 40,
   "metadata": {},
   "outputs": [
    {
     "name": "stdin",
     "output_type": "stream",
     "text": [
      "Please Enter your Age 29\n",
      "Please Enter your Gender (M(Male) or F(Female)) M\n"
     ]
    },
    {
     "name": "stdout",
     "output_type": "stream",
     "text": [
      "you can work anywhere\n"
     ]
    }
   ],
   "source": [
    "age = int(input(\"Please Enter your Age\"))\n",
    "gender = input(\"Please Enter your Gender (M(Male) or F(Female))\")\n",
    "\n",
    "if type(age) is not int:\n",
    "    print(\"Invalid Input Type of Age\")\n",
    "elif gender == \"F\":\n",
    "    print(\"you can only work in Urban Areas\")\n",
    "elif (gender == \"M\") and ( 20 < age <= 40):\n",
    "    print(\"you can work anywhere\")\n",
    "elif gender == \"M\" and ( 40 < age <= 60): \n",
    "    print(\"you can work in urban areas only\")\n",
    "else:\n",
    "    print(\"ERROR!\")"
   ]
  },
  {
   "cell_type": "markdown",
   "metadata": {},
   "source": [
    "6) Write a program to calculate the electricity bill (accept number of unit from user) according to the following criteria :\n",
    "     Unit                                                     Price  \n",
    "uptp 100 units                                             no charge\n",
    "Next 200 units                                              Rs 5 per unit\n",
    "After 200 units                                             Rs 10 per unit\n",
    "(For example if input unit is 350 than total bill amount is Rs.3500\n",
    "(For example if input unit is 97 than total bill amount is Rs.0\n",
    "(For example if input unit is 150 than total bill amount is Rs.750"
   ]
  },
  {
   "cell_type": "code",
   "execution_count": 43,
   "metadata": {},
   "outputs": [
    {
     "name": "stdin",
     "output_type": "stream",
     "text": [
      "Please Enter Total Units 102\n"
     ]
    },
    {
     "name": "stdout",
     "output_type": "stream",
     "text": [
      "Your Utilized units are 102, your total amount is Rs.510\n"
     ]
    }
   ],
   "source": [
    "units_utilized = int(input(\"Please Enter Total Units\"))\n",
    "if 0 < units_utilized <= 100:\n",
    "    print(f\"Your Utilized units are {units_utilized} less than 100, your total amount is Rs.0\")\n",
    "elif (100 < units_utilized <= 200):\n",
    "    print(f\"Your Utilized units are {units_utilized}, your total amount is Rs.{units_utilized*5}\")\n",
    "elif (units_utilized > 200):\n",
    "    print(f\"Your Utilized units are {units_utilized}, your total amount is Rs.{units_utilized*10}\")\n",
    "else:\n",
    "    print(f\"Please Enter Valid Input\")\n",
    "    "
   ]
  },
  {
   "cell_type": "markdown",
   "metadata": {},
   "source": [
    "13) Take input of age of 3 people by user and determine oldest and youngest among them."
   ]
  },
  {
   "cell_type": "code",
   "execution_count": 47,
   "metadata": {},
   "outputs": [
    {
     "name": "stdin",
     "output_type": "stream",
     "text": [
      "Please Enter Age Person1 20\n",
      "Please Enter Age Person2 12\n",
      "Please Enter Age Person3 14\n"
     ]
    },
    {
     "name": "stdout",
     "output_type": "stream",
     "text": [
      "Oldest One age is 20\n",
      "Yougest One age is 12\n"
     ]
    }
   ],
   "source": [
    "person1 = int(input(\"Please Enter Age Person1\"))\n",
    "person2 = int(input(\"Please Enter Age Person2\"))\n",
    "person3 = int(input(\"Please Enter Age Person3\"))\n",
    "\n",
    "oldest_one = max(person1,person2,person3)\n",
    "youngest_one = min(person1,person2,person3)\n",
    "\n",
    "print(f\"Oldest One age is {oldest_one}\")\n",
    "print(f\"Yougest One age is {youngest_one}\")"
   ]
  },
  {
   "cell_type": "code",
   "execution_count": null,
   "metadata": {},
   "outputs": [],
   "source": []
  }
 ],
 "metadata": {
  "kernelspec": {
   "display_name": "Python 3 (ipykernel)",
   "language": "python",
   "name": "python3"
  },
  "language_info": {
   "codemirror_mode": {
    "name": "ipython",
    "version": 3
   },
   "file_extension": ".py",
   "mimetype": "text/x-python",
   "name": "python",
   "nbconvert_exporter": "python",
   "pygments_lexer": "ipython3",
   "version": "3.12.4"
  }
 },
 "nbformat": 4,
 "nbformat_minor": 4
}

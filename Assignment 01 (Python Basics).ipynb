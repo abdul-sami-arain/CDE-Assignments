{
 "cells": [
  {
   "cell_type": "markdown",
   "metadata": {},
   "source": [
    "# Part -1 Python Basics (Variables)"
   ]
  },
  {
   "cell_type": "markdown",
   "metadata": {},
   "source": [
    "1. Print Your Name with your Father name and Date of birth using suitable escape sequence charactor"
   ]
  },
  {
   "cell_type": "code",
   "execution_count": 1,
   "metadata": {},
   "outputs": [
    {
     "name": "stdout",
     "output_type": "stream",
     "text": [
      "My Name is Abdul Sami and my father's name is Abdul Rehman\n",
      "My DOB is 17th October 2000\n"
     ]
    }
   ],
   "source": [
    "print(\"My Name is Abdul Sami and my father\\'s name is Abdul Rehman\")\n",
    "print(\"My DOB is 17th October 2000\")"
   ]
  },
  {
   "cell_type": "markdown",
   "metadata": {},
   "source": [
    "2. Write your small bio using variables and print it using print function"
   ]
  },
  {
   "cell_type": "code",
   "execution_count": 3,
   "metadata": {},
   "outputs": [
    {
     "name": "stdout",
     "output_type": "stream",
     "text": [
      "\n",
      " My name is Abdul Sami \n",
      " did Masters in CS in 2023\n",
      " Working as a TL at Zelle Pvt\n",
      "\n"
     ]
    }
   ],
   "source": [
    "bio = '''\n",
    " My name is Abdul Sami \n",
    " did Masters in CS in 2023\n",
    " Working as a TL at Zelle Pvt\n",
    "'''\n",
    "\n",
    "print(bio)"
   ]
  },
  {
   "cell_type": "markdown",
   "metadata": {},
   "source": [
    "3. Write a program in which use all the operators we can use in Python"
   ]
  },
  {
   "cell_type": "code",
   "execution_count": 7,
   "metadata": {},
   "outputs": [
    {
     "name": "stdout",
     "output_type": "stream",
     "text": [
      "Hello, my name is Abdul Sami! ,my age is 25, age after 3 years will be 28, age before 3 years was 22\n"
     ]
    }
   ],
   "source": [
    "# Basic Operators Used in Python: \n",
    "# Assign Operator:\n",
    "full_name = \"Abdul Sami\"\n",
    "age = 25\n",
    "# Addition Operator:\n",
    "age_after_3_years = age + 3\n",
    "# Subtraction Operator:\n",
    "age_before_3_years = age - 3\n",
    "# Division Operator:\n",
    "age_divides_5 = age / 5\n",
    "\n",
    "print(f\"Hello, my name is {full_name}! ,my age is {age}, age after 3 years will be {age_after_3_years}, age before 3 years was {age_before_3_years}\")"
   ]
  },
  {
   "cell_type": "markdown",
   "metadata": {},
   "source": [
    "4. Completes the following steps of small task:\n",
    "    - Mention Marks of English , Islamiat and Maths out of 100 in 3 different variables\n",
    "    - Mention Variable of Total Marks and assign 300 to it\n",
    "    - Calculate Percentage"
   ]
  },
  {
   "cell_type": "code",
   "execution_count": 15,
   "metadata": {},
   "outputs": [
    {
     "name": "stdout",
     "output_type": "stream",
     "text": [
      "\n",
      "Total Obtained in 3 Subjects 230,\n",
      "Obtained Percentage is 76.66666666666667%\n",
      "\n"
     ]
    }
   ],
   "source": [
    "#Individual Subjects Marks\n",
    "Maths = 95\n",
    "Eng = 60\n",
    "Isl = 75\n",
    "# Total Marks\n",
    "total_marks = 300\n",
    "# Total Obtained Marks\n",
    "obtained_marks = Maths + Eng + Isl\n",
    "# Percentage\n",
    "percentage = (obtained_marks/total_marks)*100\n",
    "\n",
    "print(f'''\n",
    "Total Obtained in 3 Subjects {obtained_marks},\n",
    "Obtained Percentage is {percentage}%\n",
    "''')"
   ]
  },
  {
   "cell_type": "markdown",
   "metadata": {},
   "source": [
    "# Part -2 Python Basics (Conditional Statements)"
   ]
  },
  {
   "cell_type": "markdown",
   "metadata": {},
   "source": [
    "1) A company decided to give bonus of 5% to employee if his/her year of service is more than 5 years.\n",
    "Ask user for their salary and year of service and print the net bonus amount."
   ]
  },
  {
   "cell_type": "code",
   "execution_count": 6,
   "metadata": {},
   "outputs": [],
   "source": [
    "#Type your code here"
   ]
  },
  {
   "cell_type": "markdown",
   "metadata": {},
   "source": [
    "\n",
    "2) Write a program to check whether a person is eligible for voting or not. (accept age from user) if age is greater than 17 eligible otherwise not eligible"
   ]
  },
  {
   "cell_type": "code",
   "execution_count": 7,
   "metadata": {},
   "outputs": [],
   "source": [
    "#Type your code here"
   ]
  },
  {
   "cell_type": "markdown",
   "metadata": {},
   "source": [
    "\n",
    "3) Write a program to check whether a number entered by user is even or odd."
   ]
  },
  {
   "cell_type": "code",
   "execution_count": 8,
   "metadata": {},
   "outputs": [],
   "source": [
    "#Type your code here"
   ]
  },
  {
   "cell_type": "markdown",
   "metadata": {},
   "source": [
    "4) Write a program to check whether a number is divisible by 7 or not.\n",
    "Show Answer"
   ]
  },
  {
   "cell_type": "code",
   "execution_count": 9,
   "metadata": {},
   "outputs": [],
   "source": [
    "#Type your code here"
   ]
  },
  {
   "cell_type": "markdown",
   "metadata": {},
   "source": [
    "5) Write a program to display \n",
    "\"Hello\" if a number entered by user is a multiple of five , otherwise print \"Bye\"."
   ]
  },
  {
   "cell_type": "code",
   "execution_count": 11,
   "metadata": {},
   "outputs": [],
   "source": [
    "#Type your code here"
   ]
  },
  {
   "cell_type": "markdown",
   "metadata": {},
   "source": [
    "7) Write a program to display the last digit of a number.\n"
   ]
  },
  {
   "cell_type": "code",
   "execution_count": 12,
   "metadata": {},
   "outputs": [],
   "source": [
    "#Type your code here"
   ]
  },
  {
   "cell_type": "markdown",
   "metadata": {},
   "source": [
    "9) Take values of length and breadth of a rectangle from user and print if it is square or rectangle."
   ]
  },
  {
   "cell_type": "code",
   "execution_count": 14,
   "metadata": {},
   "outputs": [],
   "source": [
    "#Type your code here "
   ]
  },
  {
   "cell_type": "markdown",
   "metadata": {},
   "source": [
    "10) Take two int values from user and print greatest among them."
   ]
  },
  {
   "cell_type": "code",
   "execution_count": 15,
   "metadata": {},
   "outputs": [],
   "source": [
    "# Type your code here"
   ]
  },
  {
   "cell_type": "markdown",
   "metadata": {},
   "source": [
    "11) A shop will give discount of 10% if the cost of purchased quantity is more than 1000.\n",
    "Ask user for quantity\n",
    "Suppose, one unit will cost 100.\n",
    "Judge and print total cost for user."
   ]
  },
  {
   "cell_type": "code",
   "execution_count": 16,
   "metadata": {},
   "outputs": [],
   "source": [
    "#Type your code here"
   ]
  },
  {
   "cell_type": "markdown",
   "metadata": {},
   "source": [
    "12) A school has following rules for grading system:\n",
    "\n",
    "a. Below 25 - F\n",
    "\n",
    "b. 25 to 45 - E\n",
    "\n",
    "c. 45 to 50 - D\n",
    "\n",
    "d. 50 to 60 - C\n",
    "\n",
    "e. 60 to 80 - B\n",
    "\n",
    "f. Above 80 - A\n",
    "\n",
    "Ask user to enter marks and print the corresponding grade."
   ]
  },
  {
   "cell_type": "code",
   "execution_count": 19,
   "metadata": {},
   "outputs": [
    {
     "name": "stdin",
     "output_type": "stream",
     "text": [
      "Please Enter Your Marks 10\n"
     ]
    },
    {
     "name": "stdout",
     "output_type": "stream",
     "text": [
      "Failed\n"
     ]
    }
   ],
   "source": [
    "student_marks = int(input(\"Please Enter Your Marks\"))\n",
    "\n",
    "\n",
    "if student_marks > 100 or student_marks < 0:\n",
    "    print(\"please give valid input\")\n",
    "elif student_marks >= 80:\n",
    "    print(\"grade is A+\")\n",
    "elif student_marks >=70:\n",
    "    print(\"grade is A\")\n",
    "elif student_marks >=60:\n",
    "    print(\"grade is B\")\n",
    "elif student_marks >=50:\n",
    "    print(\"grade is C\")\n",
    "elif student_marks >=40:\n",
    "    print(\"grade is D\")\n",
    "else:\n",
    "    print(\"Failed\")\n"
   ]
  },
  {
   "cell_type": "markdown",
   "metadata": {},
   "source": [
    "14)A student will not be allowed to sit in exam if his/her attendence is less than 75%.\n",
    "\n",
    "Take following input from user\n",
    "\n",
    "- Number of classes held\n",
    "\n",
    "- Number of classes attended.\n",
    "\n",
    "And print\n",
    "\n",
    "- percentage of class attended\n",
    "\n",
    "- Is student is allowed to sit in exam or not.\n"
   ]
  },
  {
   "cell_type": "code",
   "execution_count": 31,
   "metadata": {},
   "outputs": [
    {
     "name": "stdin",
     "output_type": "stream",
     "text": [
      "Please Enter Total Classes Held 124\n",
      "Please Enter Total Classes you Attend 110\n"
     ]
    },
    {
     "name": "stdout",
     "output_type": "stream",
     "text": [
      "Your attend 88.70967741935483% class,Congrats! you are Allowed to Sit in Exam!\n"
     ]
    }
   ],
   "source": [
    "#Type your code here\n",
    "total_classes = int(input(\"Please Enter Total Classes Held\"))\n",
    "attend_classes = int(input(\"Please Enter Total Classes you Attend\"))\n",
    "\n",
    "percent_class_attend = (attend_classes/total_classes)*100\n",
    "if (attend_classes > total_classes) and  (percent_class_attend > 100) :\n",
    "    print(\"Please Enter Valid Inputs\")\n",
    "elif percent_class_attend < 75:\n",
    "    print(f\"Your attend {percent_class_attend}% class, you are not Allowed to Sit in Exam!\");\n",
    "elif (percent_class_attend >= 75 ):\n",
    "    print(f\"Your attend {percent_class_attend}% class,Congrats! you are Allowed to Sit in Exam!\");\n",
    "else:\n",
    "    print(\"Check your Response\")"
   ]
  },
  {
   "cell_type": "markdown",
   "metadata": {},
   "source": [
    "15) Modify the above question to allow student to sit if he/she has medical cause. Ask user if he/she has medical cause or not ( 'Y' or 'N' ) and print accordingly."
   ]
  },
  {
   "cell_type": "code",
   "execution_count": 37,
   "metadata": {},
   "outputs": [
    {
     "name": "stdin",
     "output_type": "stream",
     "text": [
      "Please Enter Total Classes Held 100\n",
      "Please Enter Total Classes you Attend 67\n",
      "You had any Medical Cause Due to which you was'nt able to attend class? N\n"
     ]
    },
    {
     "name": "stdout",
     "output_type": "stream",
     "text": [
      "Your attend 67.0% class, you are not Allowed to Sit in Exam!\n"
     ]
    }
   ],
   "source": [
    "#Type your code here\n",
    "total_classes = int(input(\"Please Enter Total Classes Held\"))\n",
    "attend_classes = int(input(\"Please Enter Total Classes you Attend\"))\n",
    "\n",
    "percent_class_attend = (attend_classes/total_classes)*100\n",
    "if (attend_classes > total_classes) and  (percent_class_attend > 100) :\n",
    "    print(\"Please Enter Valid Inputs\")\n",
    "elif percent_class_attend < 75:\n",
    "    medical_cause = input(\"You had any Medical Cause Due to which you was\\'nt able to attend class?\");\n",
    "    if medical_cause == \"Y\":\n",
    "        print(f\"Your attend {percent_class_attend}% class, you are Allowed to Sit in Exam! because you had a medical issue\");\n",
    "    elif medical_cause == \"N\":\n",
    "        print(f\"Your attend {percent_class_attend}% class, you are not Allowed to Sit in Exam!\");\n",
    "    else:\n",
    "        print(\"please check your format\")\n",
    "elif (percent_class_attend >= 75 ):\n",
    "    print(f\"Your attend {percent_class_attend}% class,Congrats! you are Allowed to Sit in Exam!\");\n",
    "else:\n",
    "    print(\"Check your Response\")"
   ]
  },
  {
   "cell_type": "markdown",
   "metadata": {},
   "source": [
    "16) Write a program to check if a year is leap year or not.\n",
    "\n",
    "If a year is divisible by 4 then it is leap year but if the year is century year like 2000, 1900, 2100 then it must be divisible by 400."
   ]
  },
  {
   "cell_type": "code",
   "execution_count": 41,
   "metadata": {},
   "outputs": [
    {
     "name": "stdin",
     "output_type": "stream",
     "text": [
      "Please Enter Year 2001\n"
     ]
    },
    {
     "name": "stdout",
     "output_type": "stream",
     "text": [
      "2001 is not a Leap Year.\n"
     ]
    }
   ],
   "source": [
    "year = int(input(\"Please Enter Year\"));\n",
    "if year%400 == 0:\n",
    "    print(f\"{year} is a Leap Year.\")\n",
    "else:\n",
    "    print(f\"{year} is not a Leap Year.\")"
   ]
  },
  {
   "cell_type": "markdown",
   "metadata": {},
   "source": [
    "17) Ask user to enter age, gender ( M or F ), marital status ( Y or N ) and then using following rules print their place of service.\n",
    "\n",
    "if employee is female, then she will work only in urban areas.\n",
    "\n",
    "if employee is a male and age is in between 20 to 40 then he may work in anywhere\n",
    "\n",
    "if employee is male and age is in between 40 t0 60 then he will work in urban areas only.\n",
    "\n",
    "And any other input of age should print \"ERROR\""
   ]
  },
  {
   "cell_type": "code",
   "execution_count": 21,
   "metadata": {},
   "outputs": [
    {
     "name": "stdin",
     "output_type": "stream",
     "text": [
      "Please Enter your Age 23\n",
      "Please Enter your Gender (M(Male) or F(Female)) M\n"
     ]
    },
    {
     "name": "stdout",
     "output_type": "stream",
     "text": [
      "you can work anywhere\n"
     ]
    }
   ],
   "source": [
    "age = int(input(\"Please Enter your Age\"))\n",
    "gender = input(\"Please Enter your Gender (M(Male) or F(Female))\")\n",
    "\n",
    "if type(age) is not int:\n",
    "    print(\"Invalid Input Type of Age\")\n",
    "elif gender == \"F\":\n",
    "    print(\"you can only work in Urban Areas\")\n",
    "elif (gender == \"M\") and ( 20 < age <= 40):\n",
    "    print(\"you can work anywhere\")\n",
    "elif gender == \"M\" and ( 40 < age <= 60): \n",
    "    print(\"you can work in urban areas only\")\n",
    "else:\n",
    "    print(\"ERROR!\")"
   ]
  },
  {
   "cell_type": "markdown",
   "metadata": {},
   "source": [
    "### Using Nested Condition:"
   ]
  },
  {
   "cell_type": "code",
   "execution_count": 25,
   "metadata": {},
   "outputs": [
    {
     "name": "stdin",
     "output_type": "stream",
     "text": [
      "Please Enter your Age 10\n",
      "Please Enter your Gender (M(Male) or F(Female)) M\n"
     ]
    }
   ],
   "source": [
    "age = int(input(\"Please Enter your Age\"))\n",
    "gender = input(\"Please Enter your Gender (M(Male) or F(Female))\")\n",
    "\n",
    "if type(age) is not int:\n",
    "    print(\"Invalid Input Type of Age\")\n",
    "elif gender == \"F\":\n",
    "    print(\"you can only work in Urban Areas\")\n",
    "elif (gender == \"M\"):\n",
    "    if ( 20 < age <= 40):\n",
    "        print(\"you can work anywhere\")\n",
    "    elif ( 40 < age <= 60):\n",
    "        print(\"you can work in urban areas only\")\n",
    "else:\n",
    "    print(\"ERROR!\")"
   ]
  },
  {
   "cell_type": "markdown",
   "metadata": {},
   "source": [
    "6) Write a program to calculate the electricity bill (accept number of unit from user) according to the following criteria :\n",
    "     Unit                                                     Price  \n",
    "uptp 100 units                                             no charge\n",
    "Next 200 units                                              Rs 5 per unit\n",
    "After 200 units                                             Rs 10 per unit\n",
    "(For example if input unit is 350 than total bill amount is Rs.3500\n",
    "(For example if input unit is 97 than total bill amount is Rs.0\n",
    "(For example if input unit is 150 than total bill amount is Rs.750"
   ]
  },
  {
   "cell_type": "code",
   "execution_count": 62,
   "metadata": {},
   "outputs": [
    {
     "name": "stdin",
     "output_type": "stream",
     "text": [
      "Please Enter Total Units 200\n"
     ]
    },
    {
     "name": "stdout",
     "output_type": "stream",
     "text": [
      "Your Utilized units are 200, your total amount is Rs.1000\n"
     ]
    }
   ],
   "source": [
    "units_utilized = int(input(\"Please Enter Total Units\"))\n",
    "if 0 < units_utilized <= 100:\n",
    "    print(f\"Your Utilized units are {units_utilized} less than 100, your total amount is Rs.0\")\n",
    "elif (100 < units_utilized <= 200):\n",
    "    print(f\"Your Utilized units are {units_utilized}, your total amount is Rs.{units_utilized*5}\")\n",
    "elif (units_utilized > 200):\n",
    "    print(f\"Your Utilized units are {units_utilized}, your total amount is Rs.{units_utilized*10}\")\n",
    "else:\n",
    "    print(f\"Please Enter Valid Input\")\n",
    "    "
   ]
  },
  {
   "cell_type": "markdown",
   "metadata": {},
   "source": [
    "13) Take input of age of 3 people by user and determine oldest and youngest among them."
   ]
  },
  {
   "cell_type": "code",
   "execution_count": 18,
   "metadata": {},
   "outputs": [],
   "source": [
    "#Type your code here"
   ]
  }
 ],
 "metadata": {
  "kernelspec": {
   "display_name": "Python 3 (ipykernel)",
   "language": "python",
   "name": "python3"
  },
  "language_info": {
   "codemirror_mode": {
    "name": "ipython",
    "version": 3
   },
   "file_extension": ".py",
   "mimetype": "text/x-python",
   "name": "python",
   "nbconvert_exporter": "python",
   "pygments_lexer": "ipython3",
   "version": "3.12.4"
  }
 },
 "nbformat": 4,
 "nbformat_minor": 4
}

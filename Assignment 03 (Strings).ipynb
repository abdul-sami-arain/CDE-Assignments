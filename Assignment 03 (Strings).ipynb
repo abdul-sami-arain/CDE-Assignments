{
 "cells": [
  {
   "cell_type": "markdown",
   "id": "ccfd042c-13c3-4451-8bec-a5e5d1479e58",
   "metadata": {},
   "source": [
    ". Write a program that accepts a string from user. Your program should count and display number of \r\n",
    "vowels in that string.  "
   ]
  },
  {
   "cell_type": "code",
   "execution_count": 2,
   "id": "f1106cda-0a71-44ed-af7c-094dc75d4b6e",
   "metadata": {},
   "outputs": [
    {
     "name": "stdin",
     "output_type": "stream",
     "text": [
      "Enter a string:  abdul sami\n"
     ]
    },
    {
     "name": "stdout",
     "output_type": "stream",
     "text": [
      "Number of vowels in the string: 4\n"
     ]
    }
   ],
   "source": [
    "text = input(\"Enter a string: \")\n",
    "\n",
    "vowels = \"aeiouAEIOU\"\n",
    "\n",
    "vowel_count = 0\n",
    "\n",
    "for char in text:\n",
    "    if char in vowels:\n",
    "        vowel_count += 1\n",
    "\n",
    "print(\"Number of vowels in the string:\", vowel_count)\n"
   ]
  },
  {
   "cell_type": "markdown",
   "id": "bfd94a6b-7622-4d51-a6e5-0cffd1cbd491",
   "metadata": {},
   "source": [
    ". Write a program that reads a string from keyboard and display: \r\n",
    "* The number of uppercase letters in the string \r\n",
    "* The number of lowercase letters in the string \r\n",
    "* The number of digits in the string \r\n",
    "* The number of whitespace characters in the string  "
   ]
  },
  {
   "cell_type": "code",
   "execution_count": 5,
   "id": "529a1f26-4843-4250-9a8a-faaa33e347f2",
   "metadata": {},
   "outputs": [
    {
     "name": "stdin",
     "output_type": "stream",
     "text": [
      "Enter a string:  Abdul SAmi 09\n"
     ]
    },
    {
     "name": "stdout",
     "output_type": "stream",
     "text": [
      "Uppercase letters: 3\n",
      "Lowercase letters: 6\n",
      "Digits: 2\n",
      "Whitespace characters: 2\n"
     ]
    }
   ],
   "source": [
    "text = input(\"Enter a string: \")\n",
    "\n",
    "uppercase_count = 0\n",
    "lowercase_count = 0\n",
    "digit_count = 0\n",
    "space_count = 0\n",
    "\n",
    "for ch in text:\n",
    "    if ch.isupper():\n",
    "        uppercase_count += 1\n",
    "    elif ch.islower():\n",
    "        lowercase_count += 1\n",
    "    elif ch.isdigit():\n",
    "        digit_count += 1\n",
    "    elif ch.isspace():\n",
    "        space_count += 1\n",
    "\n",
    "print(\"Uppercase letters:\", uppercase_count)\n",
    "print(\"Lowercase letters:\", lowercase_count)\n",
    "print(\"Digits:\", digit_count)\n",
    "print(\"Whitespace characters:\", space_count)\n"
   ]
  },
  {
   "cell_type": "markdown",
   "id": "8791b8b0-1f7a-4695-a07c-de25d850035d",
   "metadata": {},
   "source": [
    "Write a Python program that accepts a string from user. Your program should create and display a \r\n",
    "new string where the first and last characters have been exchanged. "
   ]
  },
  {
   "cell_type": "code",
   "execution_count": 10,
   "id": "11a25933-388d-4290-86fd-dda9f0ef4b5e",
   "metadata": {},
   "outputs": [
    {
     "name": "stdin",
     "output_type": "stream",
     "text": [
      "Enter a string:  Abdul Emaad\n"
     ]
    },
    {
     "name": "stdout",
     "output_type": "stream",
     "text": [
      "The new string is: dbdul EmaaA\n"
     ]
    }
   ],
   "source": [
    "text = input(\"Enter a string: \")\n",
    "\n",
    "if len(text) < 2:\n",
    "    print(\"The new string is:\", text)\n",
    "else:\n",
    "    new_string = text[-1] + text[1:-1] + text[0]\n",
    "    print(\"The new string is:\", new_string)\n"
   ]
  },
  {
   "cell_type": "markdown",
   "id": "5620b89e-2afd-49ed-a5cf-d8aeb81ed2b3",
   "metadata": {},
   "source": [
    " Write a Python program that accepts a string from user. Your program should create a new string in \n",
    "reverse of first string and display it. "
   ]
  },
  {
   "cell_type": "code",
   "execution_count": 13,
   "id": "30afd772-6696-446e-b893-eecd40a9feec",
   "metadata": {},
   "outputs": [
    {
     "name": "stdin",
     "output_type": "stream",
     "text": [
      "Enter a string:  sami\n"
     ]
    },
    {
     "name": "stdout",
     "output_type": "stream",
     "text": [
      "Reversed string is: imas\n"
     ]
    }
   ],
   "source": [
    "text = input(\"Enter a string: \")\n",
    "\n",
    "reversed_text = ''.join(reversed(text))\n",
    "\n",
    "print(\"Reversed string is:\", reversed_text)\n"
   ]
  },
  {
   "cell_type": "markdown",
   "id": "b756fb07-8825-46c7-93fc-ec35457bd029",
   "metadata": {},
   "source": [
    "Write a Python program that accepts a string from user. Your program should create a new string by \r\n",
    "shifting one position to left."
   ]
  },
  {
   "cell_type": "code",
   "execution_count": 18,
   "id": "b3cd51c7-f122-4056-a3f0-ca8ce496cfd2",
   "metadata": {},
   "outputs": [
    {
     "name": "stdin",
     "output_type": "stream",
     "text": [
      "Enter a string:  examination 2021\n"
     ]
    },
    {
     "name": "stdout",
     "output_type": "stream",
     "text": [
      "String after shifting one position to the left: xamination 2021e\n"
     ]
    }
   ],
   "source": [
    "text = input(\"Enter a string: \")\n",
    "\n",
    "if len(text) == 0:\n",
    "    new_text = text\n",
    "else:\n",
    "    new_text = text[1:] + text[0]\n",
    "\n",
    "print(\"String after shifting one position to the left:\", new_text)\n"
   ]
  },
  {
   "cell_type": "markdown",
   "id": "0104a229-6050-488f-a16b-dca3fab6b5b1",
   "metadata": {},
   "source": [
    "Write a program that asks the user to input his name and print its initials. Assuming that the user \r\n",
    "always types first name, middle name and last name and does not include any unnecessary spaces. "
   ]
  },
  {
   "cell_type": "code",
   "execution_count": 23,
   "id": "c259ded9-f2e7-498d-997b-246afe4633be",
   "metadata": {},
   "outputs": [
    {
     "name": "stdin",
     "output_type": "stream",
     "text": [
      "Enter your full name (first middle last):  Abdul Sami Arain\n"
     ]
    },
    {
     "name": "stdout",
     "output_type": "stream",
     "text": [
      "Your initials are: ASA\n"
     ]
    }
   ],
   "source": [
    "full_name = input(\"Enter your full name (first middle last): \")\n",
    "\n",
    "first_space = full_name.find(' ')\n",
    "last_space = full_name.rfind(' ')\n",
    "\n",
    "initial1 = full_name[0]\n",
    "initial2 = full_name[first_space + 1]\n",
    "initial3 = full_name[last_space + 1]\n",
    "\n",
    "initials = (initial1 + initial2 + initial3).upper()\n",
    "print(\"Your initials are:\", initials)\n"
   ]
  },
  {
   "cell_type": "markdown",
   "id": "bf9162e6-7c9d-4b89-a32d-23f09a7ebbd5",
   "metadata": {},
   "source": [
    ". A palindrome is a string that reads the same backward as forward. For example, the words dad, \r\n",
    "madam and radar are all palindromes. Write a programs that determines whether the string is a \r\n",
    "palindrome. \r\n",
    "Note: do not use reverse() method   "
   ]
  },
  {
   "cell_type": "code",
   "execution_count": 28,
   "id": "48813fe2-e3f7-447b-9a9a-9ac1aaf369f5",
   "metadata": {},
   "outputs": [
    {
     "name": "stdin",
     "output_type": "stream",
     "text": [
      "Enter a string:  shift\n"
     ]
    },
    {
     "name": "stdout",
     "output_type": "stream",
     "text": [
      "The string is not a palindrome.\n"
     ]
    }
   ],
   "source": [
    "text = input(\"Enter a string: \")\n",
    "\n",
    "original = text.lower()\n",
    "\n",
    "reversed_text = original[::-1]\n",
    "\n",
    "if original == reversed_text:\n",
    "    print(\"The string is a palindrome.\")\n",
    "else:\n",
    "    print(\"The string is not a palindrome.\")\n"
   ]
  },
  {
   "cell_type": "markdown",
   "id": "adff2f2f-3c10-4a23-8e95-d24a20f374bc",
   "metadata": {},
   "source": [
    ". Write a program that display following output: \r\n",
    "SHIFT \r\n",
    "HIFTS \r\n",
    "IFTSH \r\n",
    "FTSHI \r\n",
    "TSHIF \r\n",
    "SHIFT "
   ]
  },
  {
   "cell_type": "code",
   "execution_count": 30,
   "id": "a450443c-627f-48a8-a84b-c539abde6a65",
   "metadata": {},
   "outputs": [
    {
     "name": "stdout",
     "output_type": "stream",
     "text": [
      "SHIFT\n",
      "HIFTS\n",
      "IFTSH\n",
      "FTSHI\n",
      "TSHIF\n",
      "SHIFT\n"
     ]
    }
   ],
   "source": [
    "text = \"SHIFT\"\n",
    "\n",
    "for i in range(len(text)):\n",
    "    rotated = text[i:] + text[:i]\n",
    "    print(rotated)\n",
    "\n",
    "print(text)\n"
   ]
  },
  {
   "cell_type": "markdown",
   "id": "847da457-53bd-442e-85c5-a1ded9e605a2",
   "metadata": {},
   "source": [
    ". Write a program in python that accepts a string to setup a passwords. Your entered password must \r\n",
    "meet the following requirements: \r\n",
    "The password must be at least eight characters long. \r\n",
    "It must contain at least one uppercase letter. \r\n",
    "It must contain at least one lowercase letter. \r\n",
    "It must contain at least one numeric digit. \r\n",
    "Your program should should perform this validation.   "
   ]
  },
  {
   "cell_type": "code",
   "execution_count": 36,
   "id": "317978ff-e80e-4134-9cc8-7b47395c6f4b",
   "metadata": {},
   "outputs": [
    {
     "name": "stdin",
     "output_type": "stream",
     "text": [
      "Enter your password:  Chapter(09\n"
     ]
    },
    {
     "name": "stdout",
     "output_type": "stream",
     "text": [
      "Password is valid.\n"
     ]
    }
   ],
   "source": [
    "password = input(\"Enter your password: \")\n",
    "\n",
    "has_upper = False\n",
    "has_lower = False\n",
    "has_digit = False\n",
    "\n",
    "for ch in password:\n",
    "    if ch.isupper():\n",
    "        has_upper = True\n",
    "    elif ch.islower():\n",
    "        has_lower = True\n",
    "    elif ch.isdigit():\n",
    "        has_digit = True\n",
    "\n",
    "if len(password) >= 8 and has_upper and has_lower and has_digit:\n",
    "    print(\"Password is valid.\")\n",
    "else:\n",
    "    print(\"Password is invalid. Please ensure it:\")\n",
    "    print(\"- Is at least 8 characters long\")\n",
    "    print(\"- Contains at least one uppercase letter\")\n",
    "    print(\"- Contains at least one lowercase letter\")\n",
    "    print(\"- Contains at least one digit\")\n"
   ]
  },
  {
   "cell_type": "code",
   "execution_count": null,
   "id": "8413f925-9ac9-4c06-b98c-293dc4593ecc",
   "metadata": {},
   "outputs": [],
   "source": []
  }
 ],
 "metadata": {
  "kernelspec": {
   "display_name": "Python 3 (ipykernel)",
   "language": "python",
   "name": "python3"
  },
  "language_info": {
   "codemirror_mode": {
    "name": "ipython",
    "version": 3
   },
   "file_extension": ".py",
   "mimetype": "text/x-python",
   "name": "python",
   "nbconvert_exporter": "python",
   "pygments_lexer": "ipython3",
   "version": "3.12.4"
  }
 },
 "nbformat": 4,
 "nbformat_minor": 5
}
